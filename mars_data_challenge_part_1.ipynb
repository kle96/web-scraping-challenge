{
 "cells": [
  {
   "cell_type": "code",
   "execution_count": 60,
   "metadata": {},
   "outputs": [],
   "source": [
    "from splinter import Browser\n",
    "from bs4 import BeautifulSoup as bs\n",
    "import time\n",
    "from webdriver_manager.chrome import ChromeDriverManager\n",
    "import pymongo"
   ]
  },
  {
   "cell_type": "code",
   "execution_count": 46,
   "metadata": {},
   "outputs": [],
   "source": [
    "\n",
    "def scrape_info():\n",
    "    # Set up Splinter\n",
    "    executable_path = {'executable_path': ChromeDriverManager().install()}\n",
    "    browser = Browser('chrome', **executable_path, headless=False)\n",
    "\n",
    "    # Visit Mars News\n",
    "    url = \"https://redplanetscience.com/\"\n",
    "    browser.visit(url)\n",
    "\n",
    "    time.sleep(1)\n",
    "\n",
    "    # Scrape page into Soup\n",
    "    html = browser.html\n",
    "    soup = bs(html, \"html.parser\")\n",
    "    mars_data = []\n",
    "    rows = soup.find_all('div', class_=\"list_text\")\n",
    "    for r in rows:\n",
    "\n",
    "        titles = r.find('div', class_=\"content_title\").text\n",
    "        preview = r.find('div', class_=\"article_teaser_body\").text\n",
    "\n",
    "    # Store into a dictionary\n",
    "        mars_data.append({\n",
    "            \"title\": titles,\n",
    "            \"preview\": preview\n",
    "        })\n",
    "    # # Close the browser after scraping\n",
    "    browser.quit()\n",
    "\n",
    "    # Return results\n",
    "    return mars_data"
   ]
  },
  {
   "cell_type": "code",
   "execution_count": 47,
   "metadata": {},
   "outputs": [],
   "source": [
    "data = scrape_info()"
   ]
  },
  {
   "cell_type": "code",
   "execution_count": 61,
   "metadata": {},
   "outputs": [],
   "source": [
    "# Store list inside MongoDB\n",
    "conn = 'mongodb://localhost:27017'\n",
    "client = pymongo.MongoClient(conn)\n",
    "\n",
    "# Declare the database\n",
    "db = client.mars_db\n",
    "\n",
    "# Declare the collection\n",
    "articles = db.articles"
   ]
  },
  {
   "cell_type": "code",
   "execution_count": 62,
   "metadata": {},
   "outputs": [
    {
     "name": "stdout",
     "output_type": "stream",
     "text": [
      "Title: NASA's Mars Rover Drivers Need Your Help\n",
      "Preview: Using an online tool to label Martian terrain types, you can train an artificial intelligence algorithm that could improve the way engineers guide the Curiosity rover.\n",
      "Title: NASA's MAVEN Maps Winds in the Martian Upper Atmosphere that Mirror the Terrain Below and Gives Clues to Martian Climate\n",
      "Preview: Researchers have created the first map of wind circulation in the upper atmosphere of a planet besides Earth, using data from NASA’s MAVEN spacecraft that were collected during the last two years.\n",
      "Title: NASA Moves Forward With Campaign to Return Mars Samples to Earth\n",
      "Preview: During this next phase, the program will mature critical technologies and make critical design decisions as well as assess industry partnerships.\n",
      "Title: NASA's Mars 2020 Heads Into the Test Chamber\n",
      "Preview: In this time-lapse video taken at JPL, engineers move the Mars 2020 rover into a large vacuum chamber for testing in Mars-like environmental conditions.\n",
      "Title: 7 Things to Know About the Mars 2020 Perseverance Rover Mission\n",
      "Preview: NASA's next rover to the Red Planet is slated to launch no earlier than July 30. These highlights will get you up to speed on the ambitious mission.\n",
      "Title: NASA's Mars Helicopter Attached to Mars 2020 Rover \n",
      "Preview: The helicopter will be first aircraft to perform flight tests on another planet.\n",
      "Title: Two Rovers to Roll on Mars Again: Curiosity and Mars 2020\n",
      "Preview: They look like twins. But under the hood, the rover currently exploring the Red Planet and the one launching there this summer have distinct science tools and roles to play.\n",
      "Title: Robotic Toolkit Added to NASA's Mars 2020 Rover\n",
      "Preview: The bit carousel, which lies at the heart of the rover's Sample Caching System, is now aboard NASA's newest rover. \n",
      "Title: New Selfie Shows Curiosity, the Mars Chemist\n",
      "Preview: The NASA rover performed a special chemistry experiment at the location captured in its newest self-portrait.\n",
      "Title: Naming a NASA Mars Rover Can Change Your Life\n",
      "Preview: Want to name the robotic scientist NASA is sending to Mars in 2020? The student who named Curiosity — the rover currently exploring Mars — will tell you this is an opportunity worth taking.\n",
      "Title: NASA Readies Perseverance Mars Rover's Earthly Twin \n",
      "Preview: Did you know NASA's next Mars rover has a nearly identical sibling on Earth for testing? Even better, it's about to roll for the first time through a replica Martian landscape.\n",
      "Title: NASA Administrator Statement on Moon to Mars Initiative, FY 2021 Budget\n",
      "Preview: Jim Bridenstine addresses NASA's ambitious plans for the coming years, including Mars Sample Return.\n",
      "Title: Celebrate Mars Reconnaissance Orbiter's Views From Above\n",
      "Preview: Marking its 15th anniversary since launch, one of the oldest spacecraft at the Red Planet has provided glimpses of dust devils, avalanches, and more.\n",
      "Title: NASA's Mars 2020 Rover Tests Descent-Stage Separation\n",
      "Preview: A crane lifts the rocket-powered descent stage away from NASA's Mars 2020 rover after technicians tested the pyrotechnic charges that separate the two spacecraft.\n",
      "Title: Alabama High School Student Names NASA's Mars Helicopter\n",
      "Preview: Vaneeza Rupani's essay was chosen as the name for the small spacecraft, which will mark NASA's first attempt at powered flight on another planet.\n"
     ]
    },
    {
     "data": {
      "text/plain": [
       "15"
      ]
     },
     "execution_count": 62,
     "metadata": {},
     "output_type": "execute_result"
    }
   ],
   "source": [
    "for x in data:\n",
    "    articles.insert_one(x)\n",
    "    print(f'Title: {x.get(\"title\")}')\n",
    "    print(f'Preview: {x.get(\"preview\")}')\n",
    "len(data)"
   ]
  }
 ],
 "metadata": {
  "kernelspec": {
   "display_name": "Python 3.9.12 ('base')",
   "language": "python",
   "name": "python3"
  },
  "language_info": {
   "codemirror_mode": {
    "name": "ipython",
    "version": 3
   },
   "file_extension": ".py",
   "mimetype": "text/x-python",
   "name": "python",
   "nbconvert_exporter": "python",
   "pygments_lexer": "ipython3",
   "version": "3.9.12"
  },
  "orig_nbformat": 4,
  "vscode": {
   "interpreter": {
    "hash": "fd5f0602b361fcd80b6e43c9db32d5ff96b182a40640908c77b502a93aa9387e"
   }
  }
 },
 "nbformat": 4,
 "nbformat_minor": 2
}
